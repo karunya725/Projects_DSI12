{
 "cells": [
  {
   "cell_type": "code",
   "execution_count": 1,
   "metadata": {},
   "outputs": [
    {
     "name": "stderr",
     "output_type": "stream",
     "text": [
      "C:\\Users\\User\\Anaconda3\\lib\\site-packages\\statsmodels\\tools\\_testing.py:19: FutureWarning: pandas.util.testing is deprecated. Use the functions in the public API at pandas.testing instead.\n",
      "  import pandas.util.testing as tm\n"
     ]
    }
   ],
   "source": [
    "import json\n",
    "import pandas as pd\n",
    "import matplotlib.pyplot as plt\n",
    "import numpy as np\n",
    "import seaborn as sns\n",
    "\n",
    "import sys\n",
    "np.set_printoptions(threshold=sys.maxsize)\n",
    "\n",
    "pd.set_option('display.max_columns', 999)  # This allows us to view all the columns\n",
    "pd.set_option('display.max_rows', 999)"
   ]
  },
  {
   "cell_type": "markdown",
   "metadata": {},
   "source": [
    "Read in `business` json file"
   ]
  },
  {
   "cell_type": "code",
   "execution_count": 22,
   "metadata": {},
   "outputs": [
    {
     "name": "stdout",
     "output_type": "stream",
     "text": [
      "(192609, 14)\n"
     ]
    },
    {
     "data": {
      "text/html": [
       "<div>\n",
       "<style scoped>\n",
       "    .dataframe tbody tr th:only-of-type {\n",
       "        vertical-align: middle;\n",
       "    }\n",
       "\n",
       "    .dataframe tbody tr th {\n",
       "        vertical-align: top;\n",
       "    }\n",
       "\n",
       "    .dataframe thead th {\n",
       "        text-align: right;\n",
       "    }\n",
       "</style>\n",
       "<table border=\"1\" class=\"dataframe\">\n",
       "  <thead>\n",
       "    <tr style=\"text-align: right;\">\n",
       "      <th></th>\n",
       "      <th>business_id</th>\n",
       "      <th>name</th>\n",
       "      <th>address</th>\n",
       "      <th>city</th>\n",
       "      <th>state</th>\n",
       "      <th>postal_code</th>\n",
       "      <th>latitude</th>\n",
       "      <th>longitude</th>\n",
       "      <th>stars</th>\n",
       "      <th>review_count</th>\n",
       "      <th>is_open</th>\n",
       "      <th>attributes</th>\n",
       "      <th>categories</th>\n",
       "      <th>hours</th>\n",
       "    </tr>\n",
       "  </thead>\n",
       "  <tbody>\n",
       "    <tr>\n",
       "      <th>0</th>\n",
       "      <td>1SWheh84yJXfytovILXOAQ</td>\n",
       "      <td>Arizona Biltmore Golf Club</td>\n",
       "      <td>2818 E Camino Acequia Drive</td>\n",
       "      <td>Phoenix</td>\n",
       "      <td>AZ</td>\n",
       "      <td>85016</td>\n",
       "      <td>33.522143</td>\n",
       "      <td>-112.018481</td>\n",
       "      <td>3.0</td>\n",
       "      <td>5</td>\n",
       "      <td>0</td>\n",
       "      <td>{'GoodForKids': 'False'}</td>\n",
       "      <td>Golf, Active Life</td>\n",
       "      <td>None</td>\n",
       "    </tr>\n",
       "    <tr>\n",
       "      <th>1</th>\n",
       "      <td>QXAEGFB4oINsVuTFxEYKFQ</td>\n",
       "      <td>Emerald Chinese Restaurant</td>\n",
       "      <td>30 Eglinton Avenue W</td>\n",
       "      <td>Mississauga</td>\n",
       "      <td>ON</td>\n",
       "      <td>L5R 3E7</td>\n",
       "      <td>43.605499</td>\n",
       "      <td>-79.652289</td>\n",
       "      <td>2.5</td>\n",
       "      <td>128</td>\n",
       "      <td>1</td>\n",
       "      <td>{'RestaurantsReservations': 'True', 'GoodForMe...</td>\n",
       "      <td>Specialty Food, Restaurants, Dim Sum, Imported...</td>\n",
       "      <td>{'Monday': '9:0-0:0', 'Tuesday': '9:0-0:0', 'W...</td>\n",
       "    </tr>\n",
       "    <tr>\n",
       "      <th>2</th>\n",
       "      <td>gnKjwL_1w79qoiV3IC_xQQ</td>\n",
       "      <td>Musashi Japanese Restaurant</td>\n",
       "      <td>10110 Johnston Rd, Ste 15</td>\n",
       "      <td>Charlotte</td>\n",
       "      <td>NC</td>\n",
       "      <td>28210</td>\n",
       "      <td>35.092564</td>\n",
       "      <td>-80.859132</td>\n",
       "      <td>4.0</td>\n",
       "      <td>170</td>\n",
       "      <td>1</td>\n",
       "      <td>{'GoodForKids': 'True', 'NoiseLevel': 'u'avera...</td>\n",
       "      <td>Sushi Bars, Restaurants, Japanese</td>\n",
       "      <td>{'Monday': '17:30-21:30', 'Wednesday': '17:30-...</td>\n",
       "    </tr>\n",
       "  </tbody>\n",
       "</table>\n",
       "</div>"
      ],
      "text/plain": [
       "              business_id                         name  \\\n",
       "0  1SWheh84yJXfytovILXOAQ   Arizona Biltmore Golf Club   \n",
       "1  QXAEGFB4oINsVuTFxEYKFQ   Emerald Chinese Restaurant   \n",
       "2  gnKjwL_1w79qoiV3IC_xQQ  Musashi Japanese Restaurant   \n",
       "\n",
       "                       address         city state postal_code   latitude  \\\n",
       "0  2818 E Camino Acequia Drive      Phoenix    AZ       85016  33.522143   \n",
       "1         30 Eglinton Avenue W  Mississauga    ON     L5R 3E7  43.605499   \n",
       "2    10110 Johnston Rd, Ste 15    Charlotte    NC       28210  35.092564   \n",
       "\n",
       "    longitude  stars  review_count  is_open  \\\n",
       "0 -112.018481    3.0             5        0   \n",
       "1  -79.652289    2.5           128        1   \n",
       "2  -80.859132    4.0           170        1   \n",
       "\n",
       "                                          attributes  \\\n",
       "0                           {'GoodForKids': 'False'}   \n",
       "1  {'RestaurantsReservations': 'True', 'GoodForMe...   \n",
       "2  {'GoodForKids': 'True', 'NoiseLevel': 'u'avera...   \n",
       "\n",
       "                                          categories  \\\n",
       "0                                  Golf, Active Life   \n",
       "1  Specialty Food, Restaurants, Dim Sum, Imported...   \n",
       "2                  Sushi Bars, Restaurants, Japanese   \n",
       "\n",
       "                                               hours  \n",
       "0                                               None  \n",
       "1  {'Monday': '9:0-0:0', 'Tuesday': '9:0-0:0', 'W...  \n",
       "2  {'Monday': '17:30-21:30', 'Wednesday': '17:30-...  "
      ]
     },
     "execution_count": 22,
     "metadata": {},
     "output_type": "execute_result"
    }
   ],
   "source": [
    "business = pd.read_json('../Dataset/yelp_academic_dataset_business.json', lines=True)\n",
    "print(business.shape)\n",
    "business.head()"
   ]
  },
  {
   "cell_type": "code",
   "execution_count": 23,
   "metadata": {},
   "outputs": [
    {
     "data": {
      "text/html": [
       "<div>\n",
       "<style scoped>\n",
       "    .dataframe tbody tr th:only-of-type {\n",
       "        vertical-align: middle;\n",
       "    }\n",
       "\n",
       "    .dataframe tbody tr th {\n",
       "        vertical-align: top;\n",
       "    }\n",
       "\n",
       "    .dataframe thead th {\n",
       "        text-align: right;\n",
       "    }\n",
       "</style>\n",
       "<table border=\"1\" class=\"dataframe\">\n",
       "  <thead>\n",
       "    <tr style=\"text-align: right;\">\n",
       "      <th></th>\n",
       "      <th>business_id</th>\n",
       "      <th>name</th>\n",
       "      <th>address</th>\n",
       "      <th>city</th>\n",
       "      <th>state</th>\n",
       "      <th>postal_code</th>\n",
       "      <th>latitude</th>\n",
       "      <th>longitude</th>\n",
       "      <th>stars</th>\n",
       "      <th>review_count</th>\n",
       "      <th>is_open</th>\n",
       "      <th>attributes</th>\n",
       "      <th>categories</th>\n",
       "      <th>hours</th>\n",
       "    </tr>\n",
       "  </thead>\n",
       "  <tbody>\n",
       "    <tr>\n",
       "      <th>0</th>\n",
       "      <td>1SWheh84yJXfytovILXOAQ</td>\n",
       "      <td>Arizona Biltmore Golf Club</td>\n",
       "      <td>2818 E Camino Acequia Drive</td>\n",
       "      <td>Phoenix</td>\n",
       "      <td>AZ</td>\n",
       "      <td>85016</td>\n",
       "      <td>33.522143</td>\n",
       "      <td>-112.018481</td>\n",
       "      <td>3.0</td>\n",
       "      <td>5</td>\n",
       "      <td>0</td>\n",
       "      <td>{'GoodForKids': 'False'}</td>\n",
       "      <td>Golf, Active Life</td>\n",
       "      <td>None</td>\n",
       "    </tr>\n",
       "    <tr>\n",
       "      <th>1</th>\n",
       "      <td>QXAEGFB4oINsVuTFxEYKFQ</td>\n",
       "      <td>Emerald Chinese Restaurant</td>\n",
       "      <td>30 Eglinton Avenue W</td>\n",
       "      <td>Mississauga</td>\n",
       "      <td>ON</td>\n",
       "      <td>L5R 3E7</td>\n",
       "      <td>43.605499</td>\n",
       "      <td>-79.652289</td>\n",
       "      <td>2.5</td>\n",
       "      <td>128</td>\n",
       "      <td>1</td>\n",
       "      <td>{'RestaurantsReservations': 'True', 'GoodForMe...</td>\n",
       "      <td>Specialty Food, Restaurants, Dim Sum, Imported...</td>\n",
       "      <td>{'Monday': '9:0-0:0', 'Tuesday': '9:0-0:0', 'W...</td>\n",
       "    </tr>\n",
       "    <tr>\n",
       "      <th>2</th>\n",
       "      <td>gnKjwL_1w79qoiV3IC_xQQ</td>\n",
       "      <td>Musashi Japanese Restaurant</td>\n",
       "      <td>10110 Johnston Rd, Ste 15</td>\n",
       "      <td>Charlotte</td>\n",
       "      <td>NC</td>\n",
       "      <td>28210</td>\n",
       "      <td>35.092564</td>\n",
       "      <td>-80.859132</td>\n",
       "      <td>4.0</td>\n",
       "      <td>170</td>\n",
       "      <td>1</td>\n",
       "      <td>{'GoodForKids': 'True', 'NoiseLevel': 'u'avera...</td>\n",
       "      <td>Sushi Bars, Restaurants, Japanese</td>\n",
       "      <td>{'Monday': '17:30-21:30', 'Wednesday': '17:30-...</td>\n",
       "    </tr>\n",
       "    <tr>\n",
       "      <th>3</th>\n",
       "      <td>xvX2CttrVhyG2z1dFg_0xw</td>\n",
       "      <td>Farmers Insurance - Paul Lorenz</td>\n",
       "      <td>15655 W Roosevelt St, Ste 237</td>\n",
       "      <td>Goodyear</td>\n",
       "      <td>AZ</td>\n",
       "      <td>85338</td>\n",
       "      <td>33.455613</td>\n",
       "      <td>-112.395596</td>\n",
       "      <td>5.0</td>\n",
       "      <td>3</td>\n",
       "      <td>1</td>\n",
       "      <td>None</td>\n",
       "      <td>Insurance, Financial Services</td>\n",
       "      <td>{'Monday': '8:0-17:0', 'Tuesday': '8:0-17:0', ...</td>\n",
       "    </tr>\n",
       "    <tr>\n",
       "      <th>4</th>\n",
       "      <td>HhyxOkGAM07SRYtlQ4wMFQ</td>\n",
       "      <td>Queen City Plumbing</td>\n",
       "      <td>4209 Stuart Andrew Blvd, Ste F</td>\n",
       "      <td>Charlotte</td>\n",
       "      <td>NC</td>\n",
       "      <td>28217</td>\n",
       "      <td>35.190012</td>\n",
       "      <td>-80.887223</td>\n",
       "      <td>4.0</td>\n",
       "      <td>4</td>\n",
       "      <td>1</td>\n",
       "      <td>{'BusinessAcceptsBitcoin': 'False', 'ByAppoint...</td>\n",
       "      <td>Plumbing, Shopping, Local Services, Home Servi...</td>\n",
       "      <td>{'Monday': '7:0-23:0', 'Tuesday': '7:0-23:0', ...</td>\n",
       "    </tr>\n",
       "    <tr>\n",
       "      <th>5</th>\n",
       "      <td>68dUKd8_8liJ7in4aWOSEA</td>\n",
       "      <td>The UPS Store</td>\n",
       "      <td>Credit Valley Town Plaza, F2 - 6045 Creditview Rd</td>\n",
       "      <td>Mississauga</td>\n",
       "      <td>ON</td>\n",
       "      <td>L5V 0B1</td>\n",
       "      <td>43.599475</td>\n",
       "      <td>-79.711584</td>\n",
       "      <td>2.5</td>\n",
       "      <td>3</td>\n",
       "      <td>1</td>\n",
       "      <td>{'BusinessParking': '{'garage': False, 'street...</td>\n",
       "      <td>Shipping Centers, Couriers &amp; Delivery Services...</td>\n",
       "      <td>{'Monday': '9:0-19:0', 'Tuesday': '9:0-20:0', ...</td>\n",
       "    </tr>\n",
       "    <tr>\n",
       "      <th>6</th>\n",
       "      <td>5JucpCfHZltJh5r1JabjDg</td>\n",
       "      <td>Edgeworxx Studio</td>\n",
       "      <td>20 Douglas Woods Drive Southeast</td>\n",
       "      <td>Calgary</td>\n",
       "      <td>AB</td>\n",
       "      <td>T2Z 1K4</td>\n",
       "      <td>50.943646</td>\n",
       "      <td>-114.001828</td>\n",
       "      <td>3.5</td>\n",
       "      <td>7</td>\n",
       "      <td>1</td>\n",
       "      <td>{'RestaurantsPriceRange2': '2', 'BusinessParki...</td>\n",
       "      <td>Beauty &amp; Spas, Hair Salons</td>\n",
       "      <td>None</td>\n",
       "    </tr>\n",
       "    <tr>\n",
       "      <th>7</th>\n",
       "      <td>gbQN7vr_caG_A1ugSmGhWg</td>\n",
       "      <td>Supercuts</td>\n",
       "      <td>4545 E Tropicana Rd Ste 8, Tropicana</td>\n",
       "      <td>Las Vegas</td>\n",
       "      <td>NV</td>\n",
       "      <td>89121</td>\n",
       "      <td>36.099872</td>\n",
       "      <td>-115.074574</td>\n",
       "      <td>3.5</td>\n",
       "      <td>3</td>\n",
       "      <td>1</td>\n",
       "      <td>{'RestaurantsPriceRange2': '3', 'GoodForKids':...</td>\n",
       "      <td>Hair Salons, Hair Stylists, Barbers, Men's Hai...</td>\n",
       "      <td>{'Monday': '10:0-19:0', 'Tuesday': '10:0-19:0'...</td>\n",
       "    </tr>\n",
       "    <tr>\n",
       "      <th>8</th>\n",
       "      <td>Y6iyemLX_oylRpnr38vgMA</td>\n",
       "      <td>Vita Bella Fine Day Spa</td>\n",
       "      <td>5940 W Union Hills Dr</td>\n",
       "      <td>Glendale</td>\n",
       "      <td>AZ</td>\n",
       "      <td>85308</td>\n",
       "      <td>33.654815</td>\n",
       "      <td>-112.188568</td>\n",
       "      <td>5.0</td>\n",
       "      <td>8</td>\n",
       "      <td>0</td>\n",
       "      <td>{'RestaurantsPriceRange2': '2', 'ByAppointment...</td>\n",
       "      <td>Nail Salons, Beauty &amp; Spas, Day Spas</td>\n",
       "      <td>{'Tuesday': '12:0-18:0', 'Wednesday': '10:0-18...</td>\n",
       "    </tr>\n",
       "    <tr>\n",
       "      <th>9</th>\n",
       "      <td>4GBVPIYRvzGh4K4TkRQ_rw</td>\n",
       "      <td>Options Salon &amp; Spa</td>\n",
       "      <td>21689 Lorain Rd</td>\n",
       "      <td>Fairview Park</td>\n",
       "      <td>OH</td>\n",
       "      <td>44126</td>\n",
       "      <td>41.440825</td>\n",
       "      <td>-81.854097</td>\n",
       "      <td>4.5</td>\n",
       "      <td>8</td>\n",
       "      <td>1</td>\n",
       "      <td>{'ByAppointmentOnly': 'False', 'BusinessAccept...</td>\n",
       "      <td>Beauty &amp; Spas, Nail Salons, Day Spas, Massage</td>\n",
       "      <td>{'Tuesday': '9:0-21:0', 'Wednesday': '9:0-21:0...</td>\n",
       "    </tr>\n",
       "  </tbody>\n",
       "</table>\n",
       "</div>"
      ],
      "text/plain": [
       "              business_id                             name  \\\n",
       "0  1SWheh84yJXfytovILXOAQ       Arizona Biltmore Golf Club   \n",
       "1  QXAEGFB4oINsVuTFxEYKFQ       Emerald Chinese Restaurant   \n",
       "2  gnKjwL_1w79qoiV3IC_xQQ      Musashi Japanese Restaurant   \n",
       "3  xvX2CttrVhyG2z1dFg_0xw  Farmers Insurance - Paul Lorenz   \n",
       "4  HhyxOkGAM07SRYtlQ4wMFQ              Queen City Plumbing   \n",
       "5  68dUKd8_8liJ7in4aWOSEA                    The UPS Store   \n",
       "6  5JucpCfHZltJh5r1JabjDg                 Edgeworxx Studio   \n",
       "7  gbQN7vr_caG_A1ugSmGhWg                        Supercuts   \n",
       "8  Y6iyemLX_oylRpnr38vgMA          Vita Bella Fine Day Spa   \n",
       "9  4GBVPIYRvzGh4K4TkRQ_rw              Options Salon & Spa   \n",
       "\n",
       "                                             address           city state  \\\n",
       "0                        2818 E Camino Acequia Drive        Phoenix    AZ   \n",
       "1                               30 Eglinton Avenue W    Mississauga    ON   \n",
       "2                          10110 Johnston Rd, Ste 15      Charlotte    NC   \n",
       "3                      15655 W Roosevelt St, Ste 237       Goodyear    AZ   \n",
       "4                     4209 Stuart Andrew Blvd, Ste F      Charlotte    NC   \n",
       "5  Credit Valley Town Plaza, F2 - 6045 Creditview Rd    Mississauga    ON   \n",
       "6                   20 Douglas Woods Drive Southeast        Calgary    AB   \n",
       "7               4545 E Tropicana Rd Ste 8, Tropicana      Las Vegas    NV   \n",
       "8                              5940 W Union Hills Dr       Glendale    AZ   \n",
       "9                                    21689 Lorain Rd  Fairview Park    OH   \n",
       "\n",
       "  postal_code   latitude   longitude  stars  review_count  is_open  \\\n",
       "0       85016  33.522143 -112.018481    3.0             5        0   \n",
       "1     L5R 3E7  43.605499  -79.652289    2.5           128        1   \n",
       "2       28210  35.092564  -80.859132    4.0           170        1   \n",
       "3       85338  33.455613 -112.395596    5.0             3        1   \n",
       "4       28217  35.190012  -80.887223    4.0             4        1   \n",
       "5     L5V 0B1  43.599475  -79.711584    2.5             3        1   \n",
       "6     T2Z 1K4  50.943646 -114.001828    3.5             7        1   \n",
       "7       89121  36.099872 -115.074574    3.5             3        1   \n",
       "8       85308  33.654815 -112.188568    5.0             8        0   \n",
       "9       44126  41.440825  -81.854097    4.5             8        1   \n",
       "\n",
       "                                          attributes  \\\n",
       "0                           {'GoodForKids': 'False'}   \n",
       "1  {'RestaurantsReservations': 'True', 'GoodForMe...   \n",
       "2  {'GoodForKids': 'True', 'NoiseLevel': 'u'avera...   \n",
       "3                                               None   \n",
       "4  {'BusinessAcceptsBitcoin': 'False', 'ByAppoint...   \n",
       "5  {'BusinessParking': '{'garage': False, 'street...   \n",
       "6  {'RestaurantsPriceRange2': '2', 'BusinessParki...   \n",
       "7  {'RestaurantsPriceRange2': '3', 'GoodForKids':...   \n",
       "8  {'RestaurantsPriceRange2': '2', 'ByAppointment...   \n",
       "9  {'ByAppointmentOnly': 'False', 'BusinessAccept...   \n",
       "\n",
       "                                          categories  \\\n",
       "0                                  Golf, Active Life   \n",
       "1  Specialty Food, Restaurants, Dim Sum, Imported...   \n",
       "2                  Sushi Bars, Restaurants, Japanese   \n",
       "3                      Insurance, Financial Services   \n",
       "4  Plumbing, Shopping, Local Services, Home Servi...   \n",
       "5  Shipping Centers, Couriers & Delivery Services...   \n",
       "6                         Beauty & Spas, Hair Salons   \n",
       "7  Hair Salons, Hair Stylists, Barbers, Men's Hai...   \n",
       "8               Nail Salons, Beauty & Spas, Day Spas   \n",
       "9      Beauty & Spas, Nail Salons, Day Spas, Massage   \n",
       "\n",
       "                                               hours  \n",
       "0                                               None  \n",
       "1  {'Monday': '9:0-0:0', 'Tuesday': '9:0-0:0', 'W...  \n",
       "2  {'Monday': '17:30-21:30', 'Wednesday': '17:30-...  \n",
       "3  {'Monday': '8:0-17:0', 'Tuesday': '8:0-17:0', ...  \n",
       "4  {'Monday': '7:0-23:0', 'Tuesday': '7:0-23:0', ...  \n",
       "5  {'Monday': '9:0-19:0', 'Tuesday': '9:0-20:0', ...  \n",
       "6                                               None  \n",
       "7  {'Monday': '10:0-19:0', 'Tuesday': '10:0-19:0'...  \n",
       "8  {'Tuesday': '12:0-18:0', 'Wednesday': '10:0-18...  \n",
       "9  {'Tuesday': '9:0-21:0', 'Wednesday': '9:0-21:0...  "
      ]
     },
     "execution_count": 23,
     "metadata": {},
     "output_type": "execute_result"
    }
   ],
   "source": [
    "business.head(10)"
   ]
  },
  {
   "cell_type": "markdown",
   "metadata": {},
   "source": [
    "Keep only business that are still **open**"
   ]
  },
  {
   "cell_type": "code",
   "execution_count": 3,
   "metadata": {
    "scrolled": false
   },
   "outputs": [
    {
     "data": {
      "text/plain": [
       "1    158525\n",
       "0     34084\n",
       "Name: is_open, dtype: int64"
      ]
     },
     "execution_count": 3,
     "metadata": {},
     "output_type": "execute_result"
    }
   ],
   "source": [
    "business.is_open.value_counts()"
   ]
  },
  {
   "cell_type": "code",
   "execution_count": 4,
   "metadata": {},
   "outputs": [
    {
     "name": "stdout",
     "output_type": "stream",
     "text": [
      "(158525, 13)\n"
     ]
    },
    {
     "data": {
      "text/html": [
       "<div>\n",
       "<style scoped>\n",
       "    .dataframe tbody tr th:only-of-type {\n",
       "        vertical-align: middle;\n",
       "    }\n",
       "\n",
       "    .dataframe tbody tr th {\n",
       "        vertical-align: top;\n",
       "    }\n",
       "\n",
       "    .dataframe thead th {\n",
       "        text-align: right;\n",
       "    }\n",
       "</style>\n",
       "<table border=\"1\" class=\"dataframe\">\n",
       "  <thead>\n",
       "    <tr style=\"text-align: right;\">\n",
       "      <th></th>\n",
       "      <th>business_id</th>\n",
       "      <th>name</th>\n",
       "      <th>address</th>\n",
       "      <th>city</th>\n",
       "      <th>state</th>\n",
       "      <th>postal_code</th>\n",
       "      <th>latitude</th>\n",
       "      <th>longitude</th>\n",
       "      <th>stars</th>\n",
       "      <th>review_count</th>\n",
       "      <th>attributes</th>\n",
       "      <th>categories</th>\n",
       "      <th>hours</th>\n",
       "    </tr>\n",
       "  </thead>\n",
       "  <tbody>\n",
       "    <tr>\n",
       "      <th>1</th>\n",
       "      <td>QXAEGFB4oINsVuTFxEYKFQ</td>\n",
       "      <td>Emerald Chinese Restaurant</td>\n",
       "      <td>30 Eglinton Avenue W</td>\n",
       "      <td>Mississauga</td>\n",
       "      <td>ON</td>\n",
       "      <td>L5R 3E7</td>\n",
       "      <td>43.605499</td>\n",
       "      <td>-79.652289</td>\n",
       "      <td>2.5</td>\n",
       "      <td>128</td>\n",
       "      <td>{'RestaurantsReservations': 'True', 'GoodForMe...</td>\n",
       "      <td>Specialty Food, Restaurants, Dim Sum, Imported...</td>\n",
       "      <td>{'Monday': '9:0-0:0', 'Tuesday': '9:0-0:0', 'W...</td>\n",
       "    </tr>\n",
       "    <tr>\n",
       "      <th>2</th>\n",
       "      <td>gnKjwL_1w79qoiV3IC_xQQ</td>\n",
       "      <td>Musashi Japanese Restaurant</td>\n",
       "      <td>10110 Johnston Rd, Ste 15</td>\n",
       "      <td>Charlotte</td>\n",
       "      <td>NC</td>\n",
       "      <td>28210</td>\n",
       "      <td>35.092564</td>\n",
       "      <td>-80.859132</td>\n",
       "      <td>4.0</td>\n",
       "      <td>170</td>\n",
       "      <td>{'GoodForKids': 'True', 'NoiseLevel': 'u'avera...</td>\n",
       "      <td>Sushi Bars, Restaurants, Japanese</td>\n",
       "      <td>{'Monday': '17:30-21:30', 'Wednesday': '17:30-...</td>\n",
       "    </tr>\n",
       "  </tbody>\n",
       "</table>\n",
       "</div>"
      ],
      "text/plain": [
       "              business_id                         name  \\\n",
       "1  QXAEGFB4oINsVuTFxEYKFQ   Emerald Chinese Restaurant   \n",
       "2  gnKjwL_1w79qoiV3IC_xQQ  Musashi Japanese Restaurant   \n",
       "\n",
       "                     address         city state postal_code   latitude  \\\n",
       "1       30 Eglinton Avenue W  Mississauga    ON     L5R 3E7  43.605499   \n",
       "2  10110 Johnston Rd, Ste 15    Charlotte    NC       28210  35.092564   \n",
       "\n",
       "   longitude  stars  review_count  \\\n",
       "1 -79.652289    2.5           128   \n",
       "2 -80.859132    4.0           170   \n",
       "\n",
       "                                          attributes  \\\n",
       "1  {'RestaurantsReservations': 'True', 'GoodForMe...   \n",
       "2  {'GoodForKids': 'True', 'NoiseLevel': 'u'avera...   \n",
       "\n",
       "                                          categories  \\\n",
       "1  Specialty Food, Restaurants, Dim Sum, Imported...   \n",
       "2                  Sushi Bars, Restaurants, Japanese   \n",
       "\n",
       "                                               hours  \n",
       "1  {'Monday': '9:0-0:0', 'Tuesday': '9:0-0:0', 'W...  \n",
       "2  {'Monday': '17:30-21:30', 'Wednesday': '17:30-...  "
      ]
     },
     "execution_count": 4,
     "metadata": {},
     "output_type": "execute_result"
    }
   ],
   "source": [
    "# Keep only business that are still open\n",
    "# Drop columns that may not be relavent\n",
    "df_business = business[business['is_open']==1].drop(['is_open'], axis=1)\n",
    "print(df_business.shape)\n",
    "df_business.head(2)"
   ]
  },
  {
   "cell_type": "markdown",
   "metadata": {},
   "source": [
    "Look distribution of **states**"
   ]
  },
  {
   "cell_type": "code",
   "execution_count": 24,
   "metadata": {
    "scrolled": false
   },
   "outputs": [
    {
     "name": "stdout",
     "output_type": "stream",
     "text": [
      "Number of states: 36\n"
     ]
    },
    {
     "data": {
      "text/plain": [
       "(AZ    46910\n",
       " NV    29562\n",
       " ON    26525\n",
       " OH    12546\n",
       " NC    12419\n",
       " PA     9430\n",
       " QC     7623\n",
       " AB     6694\n",
       " WI     4210\n",
       " IL     1545\n",
       " Name: state, dtype: int64,\n",
       " <matplotlib.axes._subplots.AxesSubplot at 0x204174d2888>)"
      ]
     },
     "execution_count": 24,
     "metadata": {},
     "output_type": "execute_result"
    },
    {
     "data": {
      "image/png": "[encoded data removed]",
      "text/plain": [
       "<Figure size 576x288 with 1 Axes>"
      ]
     },
     "metadata": {
      "needs_background": "light"
     },
     "output_type": "display_data"
    }
   ],
   "source": [
    "print('Number of states: {}'.format(len(df_business.state.value_counts())))\n",
    "plt.figure(figsize = (8,4))\n",
    "state_vc = df_business.state.value_counts()[:10]\n",
    "plt.title('Distribution of states')\n",
    "state_vc, sns.barplot(x= state_vc.index, y= state_vc, palette = 'rainbow')"
   ]
  },
  {
   "cell_type": "markdown",
   "metadata": {},
   "source": [
    "Yelp contains businesses from 36 states. The top 3 states containing the most number of reviews are: \n",
    "- AZ - Arizona (USA)\n",
    "- NV - Nevada (USA)\n",
    "- ON - Ontario (Canada)"
   ]
  },
  {
   "cell_type": "markdown",
   "metadata": {},
   "source": [
    "Look at distribution of **city**"
   ]
  },
  {
   "cell_type": "code",
   "execution_count": 6,
   "metadata": {
    "scrolled": false
   },
   "outputs": [
    {
     "name": "stdout",
     "output_type": "stream",
     "text": [
      "Number of cities: 1148\n"
     ]
    },
    {
     "data": {
      "text/plain": [
       "(Las Vegas     23793\n",
       " Phoenix       15473\n",
       " Toronto       14331\n",
       " Charlotte      7947\n",
       " Scottsdale     7081\n",
       " Calgary        6446\n",
       " Pittsburgh     5737\n",
       " Montréal       5163\n",
       " Mesa           5149\n",
       " Henderson      4026\n",
       " Tempe          3584\n",
       " Chandler       3525\n",
       " Name: city, dtype: int64,\n",
       " <matplotlib.axes._subplots.AxesSubplot at 0x20407b4d848>)"
      ]
     },
     "execution_count": 6,
     "metadata": {},
     "output_type": "execute_result"
    },
    {
     "data": {
      "image/png": "[encoded data removed]",
      "text/plain": [
       "<Figure size 770.4x288 with 1 Axes>"
      ]
     },
     "metadata": {
      "needs_background": "light"
     },
     "output_type": "display_data"
    }
   ],
   "source": [
    "print('Number of cities: {}'.format(len(df_business.city.value_counts())))\n",
    "city_vc = df_business.city.value_counts()[:12]\n",
    "plt.figure(figsize = (10.7,4))\n",
    "city_vc, sns.barplot(x= city_vc.index, y= city_vc, palette = 'rainbow')"
   ]
  },
  {
   "cell_type": "markdown",
   "metadata": {},
   "source": [
    "Yelp contains businesses from 1148 cities. The top 5 cities containing the most number of reviews are: \n",
    "- Las Vegas - Nevada (USA)\n",
    "- Phoenix - Arizona (USA)\n",
    "- Toronto - Ontario (Canada)\n",
    "- Charlotte - North Carolina (USA)\n",
    "- Scottsdale - Arizona (USA)"
   ]
  },
  {
   "cell_type": "markdown",
   "metadata": {},
   "source": [
    "Explode and find the businesses associated with food for each state\n"
   ]
  },
  {
   "cell_type": "code",
   "execution_count": 7,
   "metadata": {
    "scrolled": false
   },
   "outputs": [
    {
     "data": {
      "text/html": [
       "<div>\n",
       "<style scoped>\n",
       "    .dataframe tbody tr th:only-of-type {\n",
       "        vertical-align: middle;\n",
       "    }\n",
       "\n",
       "    .dataframe tbody tr th {\n",
       "        vertical-align: top;\n",
       "    }\n",
       "\n",
       "    .dataframe thead th {\n",
       "        text-align: right;\n",
       "    }\n",
       "</style>\n",
       "<table border=\"1\" class=\"dataframe\">\n",
       "  <thead>\n",
       "    <tr style=\"text-align: right;\">\n",
       "      <th></th>\n",
       "      <th>business_id</th>\n",
       "      <th>name</th>\n",
       "      <th>address</th>\n",
       "      <th>city</th>\n",
       "      <th>state</th>\n",
       "      <th>postal_code</th>\n",
       "      <th>latitude</th>\n",
       "      <th>longitude</th>\n",
       "      <th>stars</th>\n",
       "      <th>review_count</th>\n",
       "      <th>attributes</th>\n",
       "      <th>categories</th>\n",
       "      <th>hours</th>\n",
       "    </tr>\n",
       "  </thead>\n",
       "  <tbody>\n",
       "    <tr>\n",
       "      <th>13740</th>\n",
       "      <td>yxgpKCqr7nUFKAk0z2_d0A</td>\n",
       "      <td>Avon Animal &amp; Bird Hospital</td>\n",
       "      <td>37160 Detroit Rd</td>\n",
       "      <td>Avon</td>\n",
       "      <td>OH</td>\n",
       "      <td>44011</td>\n",
       "      <td>41.450683</td>\n",
       "      <td>-82.036670</td>\n",
       "      <td>5.0</td>\n",
       "      <td>6</td>\n",
       "      <td>None</td>\n",
       "      <td>Pet Sitting</td>\n",
       "      <td>{'Monday': '8:0-19:0', 'Tuesday': '8:0-19:0', ...</td>\n",
       "    </tr>\n",
       "    <tr>\n",
       "      <th>192244</th>\n",
       "      <td>3MR0ceuZDmD_C1hB-2dn0Q</td>\n",
       "      <td>OneSelf Therapy</td>\n",
       "      <td>2090 N Dobson Rd, Ste 1</td>\n",
       "      <td>Chandler</td>\n",
       "      <td>AZ</td>\n",
       "      <td>85224</td>\n",
       "      <td>33.337325</td>\n",
       "      <td>-111.877108</td>\n",
       "      <td>4.5</td>\n",
       "      <td>29</td>\n",
       "      <td>{'BusinessParking': '{'garage': False, 'street...</td>\n",
       "      <td>Yoga</td>\n",
       "      <td>{'Monday': '11:0-20:0', 'Tuesday': '11:0-20:0'...</td>\n",
       "    </tr>\n",
       "    <tr>\n",
       "      <th>126233</th>\n",
       "      <td>ByTe_MSUlqd8yGvFPKerNA</td>\n",
       "      <td>Dave's Supermarket</td>\n",
       "      <td>12438 Cedar Rd</td>\n",
       "      <td>Cleveland</td>\n",
       "      <td>OH</td>\n",
       "      <td>44106</td>\n",
       "      <td>41.500762</td>\n",
       "      <td>-81.593065</td>\n",
       "      <td>2.5</td>\n",
       "      <td>27</td>\n",
       "      <td>{'BusinessParking': '{'garage': False, 'street...</td>\n",
       "      <td>Food</td>\n",
       "      <td>{'Monday': '7:0-23:0', 'Tuesday': '7:0-23:0', ...</td>\n",
       "    </tr>\n",
       "  </tbody>\n",
       "</table>\n",
       "</div>"
      ],
      "text/plain": [
       "                   business_id                         name  \\\n",
       "13740   yxgpKCqr7nUFKAk0z2_d0A  Avon Animal & Bird Hospital   \n",
       "192244  3MR0ceuZDmD_C1hB-2dn0Q              OneSelf Therapy   \n",
       "126233  ByTe_MSUlqd8yGvFPKerNA           Dave's Supermarket   \n",
       "\n",
       "                        address       city state postal_code   latitude  \\\n",
       "13740          37160 Detroit Rd       Avon    OH       44011  41.450683   \n",
       "192244  2090 N Dobson Rd, Ste 1   Chandler    AZ       85224  33.337325   \n",
       "126233           12438 Cedar Rd  Cleveland    OH       44106  41.500762   \n",
       "\n",
       "         longitude  stars  review_count  \\\n",
       "13740   -82.036670    5.0             6   \n",
       "192244 -111.877108    4.5            29   \n",
       "126233  -81.593065    2.5            27   \n",
       "\n",
       "                                               attributes   categories  \\\n",
       "13740                                                None  Pet Sitting   \n",
       "192244  {'BusinessParking': '{'garage': False, 'street...         Yoga   \n",
       "126233  {'BusinessParking': '{'garage': False, 'street...         Food   \n",
       "\n",
       "                                                    hours  \n",
       "13740   {'Monday': '8:0-19:0', 'Tuesday': '8:0-19:0', ...  \n",
       "192244  {'Monday': '11:0-20:0', 'Tuesday': '11:0-20:0'...  \n",
       "126233  {'Monday': '7:0-23:0', 'Tuesday': '7:0-23:0', ...  "
      ]
     },
     "execution_count": 7,
     "metadata": {},
     "output_type": "execute_result"
    }
   ],
   "source": [
    "# df.explode requires pandas ver 0.25\n",
    "# Create one row for each series that contain comma-separated items\n",
    "df_business_explode = df_business.assign(categories = df_business.categories.str.split(', ')).explode('categories')\n",
    "df_business_explode.sample(3)"
   ]
  },
  {
   "cell_type": "code",
   "execution_count": 8,
   "metadata": {},
   "outputs": [],
   "source": [
    "def value_counts_df(df, col):\n",
    "    df = pd.DataFrame(df[col].value_counts())\n",
    "    df.index.name = col\n",
    "    df.columns = ['count']\n",
    "    return df"
   ]
  },
  {
   "cell_type": "code",
   "execution_count": 9,
   "metadata": {},
   "outputs": [],
   "source": [
    "explode_state_vc = value_counts_df(df_business_explode.groupby('state'),'categories')\n",
    "explode_state_vc = explode_state_vc.reset_index()"
   ]
  },
  {
   "cell_type": "code",
   "execution_count": 10,
   "metadata": {},
   "outputs": [],
   "source": [
    "explode_state_vc = explode_state_vc.loc[explode_state_vc['state'].isin(['AZ','NV','ON'])].sort_values(by= 'count', ascending = False)\n",
    "cat_list = explode_state_vc.head(10).categories.value_counts().index.tolist()"
   ]
  },
  {
   "cell_type": "code",
   "execution_count": 28,
   "metadata": {},
   "outputs": [],
   "source": [
    "def stacked_graph(df,cat_list, col1, col2, value):\n",
    "    fig, ax = plt.subplots(figsize=(10,7))  \n",
    "\n",
    "    categories = cat_list\n",
    "    margin_bottom = np.zeros(len(df[col1].drop_duplicates()))\n",
    "    colors = [\"#f8748e\", \"#f6f871\",\"#afda40\",\"#80e5c9\",\n",
    "              \"#9bd3f4\",\"#919cf7\",'#b32e71']\n",
    "\n",
    "    for num, cat in enumerate(categories):\n",
    "        values = list(df[df[col2] == cat].loc[:, value])\n",
    "\n",
    "        df[df[col2] == cat].plot.bar(x=col1,y=value, ax=ax, stacked=True, \n",
    "                                    bottom = margin_bottom, color=colors[num], label=cat)\n",
    "        margin_bottom += values\n",
    "        plt.title('Distribution of categories per state')\n",
    "    return plt.show()"
   ]
  },
  {
   "cell_type": "code",
   "execution_count": 29,
   "metadata": {},
   "outputs": [
    {
     "ename": "IndexError",
     "evalue": "list index out of range",
     "output_type": "error",
     "traceback": [
      "\u001b[1;31m---------------------------------------------------------------------------\u001b[0m",
      "\u001b[1;31mIndexError\u001b[0m                                Traceback (most recent call last)",
      "\u001b[1;32m<ipython-input-29-f018473cba88>\u001b[0m in \u001b[0;36m<module>\u001b[1;34m\u001b[0m\n\u001b[1;32m----> 1\u001b[1;33m \u001b[0mexplode_state_vc\u001b[0m\u001b[1;33m.\u001b[0m\u001b[0mhead\u001b[0m\u001b[1;33m(\u001b[0m\u001b[1;36m10\u001b[0m\u001b[1;33m)\u001b[0m\u001b[1;33m,\u001b[0m \u001b[0mstacked_graph\u001b[0m\u001b[1;33m(\u001b[0m\u001b[0mexplode_state_vc\u001b[0m\u001b[1;33m,\u001b[0m\u001b[0mcat_list\u001b[0m\u001b[1;33m,\u001b[0m\u001b[1;34m'state'\u001b[0m\u001b[1;33m,\u001b[0m\u001b[1;34m'categories'\u001b[0m\u001b[1;33m,\u001b[0m\u001b[1;34m'count'\u001b[0m\u001b[1;33m)\u001b[0m\u001b[1;33m\u001b[0m\u001b[1;33m\u001b[0m\u001b[0m\n\u001b[0m",
      "\u001b[1;32m<ipython-input-28-f9ddb80b08d3>\u001b[0m in \u001b[0;36mstacked_graph\u001b[1;34m(df, cat_list, col1, col2, value)\u001b[0m\n\u001b[0;32m     11\u001b[0m \u001b[1;33m\u001b[0m\u001b[0m\n\u001b[0;32m     12\u001b[0m         df[df[col2] == cat].plot.bar(x=col1,y=value, ax=ax, stacked=True, \n\u001b[1;32m---> 13\u001b[1;33m                                     bottom = margin_bottom, color=colors[num], label=cat)\n\u001b[0m\u001b[0;32m     14\u001b[0m         \u001b[0mmargin_bottom\u001b[0m \u001b[1;33m+=\u001b[0m \u001b[0mvalues\u001b[0m\u001b[1;33m\u001b[0m\u001b[1;33m\u001b[0m\u001b[0m\n\u001b[0;32m     15\u001b[0m         \u001b[0mplt\u001b[0m\u001b[1;33m.\u001b[0m\u001b[0mtitle\u001b[0m\u001b[1;33m(\u001b[0m\u001b[1;34m'Distribution of categories per state'\u001b[0m\u001b[1;33m)\u001b[0m\u001b[1;33m\u001b[0m\u001b[1;33m\u001b[0m\u001b[0m\n",
      "\u001b[1;31mIndexError\u001b[0m: list index out of range"
     ]
    },
    {
     "data": {
      "image/png": "[encoded data removed]",
      "text/plain": [
       "<Figure size 720x504 with 1 Axes>"
      ]
     },
     "metadata": {
      "needs_background": "light"
     },
     "output_type": "display_data"
    }
   ],
   "source": [
    "\n",
    "explode_state_vc.head(10), stacked_graph(explode_state_vc,cat_list,'state','categories','count')"
   ]
  },
  {
   "cell_type": "markdown",
   "metadata": {},
   "source": [
    "From the graph above, we are able to see that ON (Ontario, Canada) has the most number of restaurants and food which are businesses associated with food industry. As such we will be looking at ON"
   ]
  },
  {
   "cell_type": "markdown",
   "metadata": {},
   "source": [
    "Now to look at Ontario. Determine whether to focus on Ontario as a whole or only use a part of Ontario"
   ]
  },
  {
   "cell_type": "code",
   "execution_count": 13,
   "metadata": {},
   "outputs": [],
   "source": [
    "explode_ON_vc = df_business_explode.loc[df_business_explode.state == 'ON']\n",
    "explode_ON_vc = value_counts_df(explode_ON_vc.groupby('city'),'categories')\n",
    "explode_ON_vc = explode_ON_vc.reset_index()"
   ]
  },
  {
   "cell_type": "code",
   "execution_count": 14,
   "metadata": {},
   "outputs": [],
   "source": [
    "# Looking only at top 10 categories\n",
    "explode_ON_vc = explode_ON_vc.sort_values(by= 'count', ascending = False)"
   ]
  },
  {
   "cell_type": "code",
   "execution_count": 15,
   "metadata": {},
   "outputs": [],
   "source": [
    "# Looking only at top 10 cities\n",
    "city_list = explode_ON_vc.city.value_counts().sort_values(ascending = False).index.tolist()\n",
    "explode_ON_vc = explode_ON_vc.loc[explode_ON_vc.city.isin(city_list[:10])]"
   ]
  },
  {
   "cell_type": "code",
   "execution_count": 16,
   "metadata": {},
   "outputs": [
    {
     "data": {
      "text/plain": [
       "Toronto          888\n",
       "Mississauga      567\n",
       "Markham          441\n",
       "North York       436\n",
       "Richmond Hill    412\n",
       "Vaughan          388\n",
       "Scarborough      387\n",
       "Brampton         383\n",
       "Etobicoke        367\n",
       "Newmarket        293\n",
       "Name: city, dtype: int64"
      ]
     },
     "execution_count": 16,
     "metadata": {},
     "output_type": "execute_result"
    }
   ],
   "source": [
    "explode_ON_vc.city.value_counts()"
   ]
  },
  {
   "cell_type": "code",
   "execution_count": 17,
   "metadata": {},
   "outputs": [
    {
     "data": {
      "text/plain": [
       "['Restaurants',\n",
       " 'Shopping',\n",
       " 'Local Services',\n",
       " 'Beauty & Spas',\n",
       " 'Food',\n",
       " 'Health & Medical',\n",
       " 'Bars',\n",
       " 'Coffee & Tea',\n",
       " 'Nightlife']"
      ]
     },
     "execution_count": 17,
     "metadata": {},
     "output_type": "execute_result"
    }
   ],
   "source": [
    "cat_list = explode_ON_vc.head(10).categories.value_counts().index.tolist()\n",
    "cat_list"
   ]
  },
  {
   "cell_type": "code",
   "execution_count": 30,
   "metadata": {},
   "outputs": [],
   "source": [
    "def stacked_graph(df,cat_list, col1, col2, value):\n",
    "    fig, ax = plt.subplots(figsize=(10,7))  \n",
    "\n",
    "    categories = cat_list\n",
    "    margin_bottom = np.zeros(len(df[col1].drop_duplicates()))\n",
    "    colors = [\"#c9a4eb\", \"#8966fa\",\"#83dfff\",\"#99e3c9\",\n",
    "              \"#37f854\",\"#ddf8bf\",'#efe192',\"#e0960f\",\n",
    "              \"#ffacac\",\"#eb4991\"]\n",
    "\n",
    "    for num, cat in enumerate(categories):\n",
    "        values = list(df[df[col2] == cat].loc[:, value])\n",
    "\n",
    "        df[df[col2] == cat].plot.bar(x=col1,y=value, ax=ax, stacked=True, \n",
    "                                    bottom = margin_bottom, color=colors[num], label=cat)\n",
    "        margin_bottom += values\n",
    "        plt.title('Distribution of categories per city')\n",
    "    return plt.show()"
   ]
  },
  {
   "cell_type": "code",
   "execution_count": 31,
   "metadata": {},
   "outputs": [
    {
     "data": {
      "image/png": "[encoded data removed]",
      "text/plain": [
       "<Figure size 720x504 with 1 Axes>"
      ]
     },
     "metadata": {
      "needs_background": "light"
     },
     "output_type": "display_data"
    },
    {
     "data": {
      "text/plain": [
       "(             city        categories  count\n",
       " 5960      Toronto       Restaurants   5252\n",
       " 5961      Toronto              Food   3041\n",
       " 5962      Toronto          Shopping   2564\n",
       " 5963      Toronto     Beauty & Spas   1618\n",
       " 5964      Toronto         Nightlife   1165\n",
       " 2774  Mississauga       Restaurants   1142\n",
       " 5965      Toronto              Bars   1045\n",
       " 5966      Toronto  Health & Medical    973\n",
       " 5967      Toronto      Coffee & Tea    952\n",
       " 5968      Toronto    Local Services    836, None)"
      ]
     },
     "execution_count": 31,
     "metadata": {},
     "output_type": "execute_result"
    }
   ],
   "source": [
    "explode_ON_vc.head(10), stacked_graph(explode_ON_vc,cat_list,'city','categories','count')"
   ]
  },
  {
   "cell_type": "markdown",
   "metadata": {},
   "source": [
    "From the graph above, we can see that Toronto has a significantly higher numeber of Restaurants, Bars, Coffee & Tea and Food businesses which are businesses associated with food. As such the focus on this recommender will be Toronto  "
   ]
  },
  {
   "cell_type": "code",
   "execution_count": 21,
   "metadata": {},
   "outputs": [],
   "source": [
    "df_business.to_csv('../Dataset/business_01a.csv', index = False)"
   ]
  },
  {
   "cell_type": "code",
   "execution_count": null,
   "metadata": {},
   "outputs": [],
   "source": []
  }
 ],
 "metadata": {
  "kernelspec": {
   "display_name": "Python 3",
   "language": "python",
   "name": "python3"
  },
  "language_info": {
   "codemirror_mode": {
    "name": "ipython",
    "version": 3
   },
   "file_extension": ".py",
   "mimetype": "text/x-python",
   "name": "python",
   "nbconvert_exporter": "python",
   "pygments_lexer": "ipython3",
   "version": "3.7.4"
  }
 },
 "nbformat": 4,
 "nbformat_minor": 2
}
